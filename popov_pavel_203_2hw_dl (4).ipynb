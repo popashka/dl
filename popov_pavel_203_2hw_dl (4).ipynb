{
  "cells": [
    {
      "cell_type": "markdown",
      "metadata": {
        "id": "w35Q6hOIy4sk"
      },
      "source": [
        "# Глубинное обучение 1 / Введение в глубинное обучение, ФКН ВШЭ\n",
        "\n",
        "## Домашнее задание 2: сверточный классификатор.\n",
        "\n",
        "### Общая информация\n",
        "\n",
        "Оценка после штрафа после мягкого дедлайна вычисляется по формуле $M_{\\text{penalty}} = M_{\\text{full}} \\cdot 0.85^{t/1440}$, где $M_{\\text{full}}$ — полная оценка за работу без учета штрафа, а $t$ — время в минутах, прошедшее после мягкого дедлайна (округление до двух цифр после запятой). Таким образом, спустя первые сутки после мягкого дедлайна вы не можете получить оценку выше 8.5, а если сдать через четыре дня после мягкого дедлайна, то ваш максимум — 5.22 балла.\n",
        "\n",
        "### Оценивание и штрафы\n",
        "\n",
        "Максимально допустимая оценка за работу — 10 баллов. Сдавать задание после указанного срока сдачи нельзя.\n",
        "\n",
        "Задание выполняется самостоятельно. «Похожие» решения считаются плагиатом и все задействованные студенты (в том числе те, у кого списали) не могут получить за него больше 0 баллов. Если вы нашли решение какого-то из заданий (или его часть) в открытом источнике, необходимо указать ссылку на этот источник в отдельном блоке в конце вашей работы (скорее всего вы будете не единственным, кто это нашел, поэтому чтобы исключить подозрение в плагиате, необходима ссылка на источник).\n",
        "\n",
        "Неэффективная реализация кода может негативно отразиться на оценке. Также оценка может быть снижена за плохо читаемый код и плохо оформленные графики. Все ответы должны сопровождаться кодом или комментариями о том, как они были получены.\n",
        "\n",
        "### О задании\n",
        "\n",
        "В этом задании вам предстоит познакомиться со сверточными сетями и их обучением для классификации изображений с использованием библиотеки PyTorch.\n"
      ]
    },
    {
      "cell_type": "code",
      "execution_count": 1,
      "metadata": {
        "id": "SaACifdX2QOo"
      },
      "outputs": [],
      "source": [
        "import torch\n",
        "import torch.nn as nn\n",
        "import torch.nn.functional as F\n",
        "import torch.optim as optim\n",
        "import torchvision\n",
        "import torchvision.transforms as transforms\n",
        "\n",
        "import matplotlib.pyplot as plt\n",
        "import numpy as np\n",
        "\n",
        "from sklearn.model_selection import train_test_split"
      ]
    },
    {
      "cell_type": "markdown",
      "metadata": {
        "id": "TIXaUYM-0JFl"
      },
      "source": [
        "## 0. Загрузка данных\n",
        "\n",
        "Работать мы будем с набором данных [CIFAR10](https://www.cs.toronto.edu/~kriz/cifar.html). CIFAR10 представляет собой набор изображений 32х32 пикселя, разделенных на 10 классов.\n",
        "\n",
        "![title](https://pytorch.org/tutorials/_images/cifar10.png)\n",
        "\n",
        "\n"
      ]
    },
    {
      "cell_type": "markdown",
      "metadata": {
        "id": "g-0EEjl_10vB"
      },
      "source": [
        "Набор данных уже определен в <code>torchvision.datasets</code>, так что возьмем его оттуда. \n",
        "\n"
      ]
    },
    {
      "cell_type": "code",
      "execution_count": 26,
      "metadata": {
        "id": "Cbwe92dT3aPZ"
      },
      "outputs": [],
      "source": [
        "def get_cifar10_data(batch_size, transform_train):\n",
        "    torch.manual_seed(0)\n",
        "    np.random.seed(0)\n",
        "\n",
        "    transform_test = torchvision.transforms.Compose(\n",
        "        [torchvision.transforms.ToTensor(),\n",
        "         # Переводим цвета пикселей в отрезок [-1, 1]\n",
        "         torchvision.transforms.Normalize((0.5, 0.5, 0.5), (0.5, 0.5, 0.5))]\n",
        "    )\n",
        "    \n",
        "    # Загружаем данные\n",
        "    trainvalset = torchvision.datasets.CIFAR10(root='./data', train=True,\n",
        "                                               download=True, transform=transform_train)\n",
        "    testset = torchvision.datasets.CIFAR10(root='./data', train=False,\n",
        "                                           download=True, transform=transform_test)\n",
        "    \n",
        "    # В датасете определено разбиение только на train и test,\n",
        "    # так что валидацию дополнительно выделяем из обучающей выборки\n",
        "    train_idx, valid_idx = train_test_split(np.arange(len(trainvalset)), test_size=0.3, \n",
        "                                            shuffle=True, random_state=0)\n",
        "    trainset = torch.utils.data.Subset(trainvalset, train_idx)\n",
        "    valset = torch.utils.data.Subset(trainvalset, valid_idx)\n",
        "\n",
        "    train_loader = torch.utils.data.DataLoader(trainset, batch_size=batch_size,\n",
        "                                               shuffle=True, num_workers=2)\n",
        "    val_loader = torch.utils.data.DataLoader(valset, batch_size=batch_size,\n",
        "                                             shuffle=False, num_workers=2)\n",
        "    test_loader = torch.utils.data.DataLoader(testset, batch_size=batch_size,\n",
        "                                              shuffle=False, num_workers=2)\n",
        "    \n",
        "    return train_loader, val_loader, test_loader\n",
        "    "
      ]
    },
    {
      "cell_type": "code",
      "execution_count": 3,
      "metadata": {
        "colab": {
          "base_uri": "https://localhost:8080/",
          "height": 103,
          "referenced_widgets": [
            "cf80df15491f49159e66683de0da93fd",
            "35d6be30197c49e2811fdcceb8007dac",
            "28a131fd0bc346f4ad7676fc3fe5e729",
            "1cc0a34fc2be47a1ba1fbcdb249cfbb2",
            "57c169eae8764ebf841ac8963ada9d4e",
            "d12414ab32ec431896d79a1363632553",
            "7409b26b97a74d2eb3d5cf2ebf9e6989",
            "a6ff6e3ca17a47de9e5210307a314793",
            "5c3616efa5d94e52b01902a2fb815a55",
            "677e0711e07f4f13bb2e357b565dddb1",
            "3790f29acb4f454fb3148d4640132066"
          ]
        },
        "id": "2G2rLnN5y6Jj",
        "outputId": "dc13e4dd-70c2-4eb6-8bbf-ffdf76192728"
      },
      "outputs": [
        {
          "output_type": "stream",
          "name": "stdout",
          "text": [
            "Downloading https://www.cs.toronto.edu/~kriz/cifar-10-python.tar.gz to ./data/cifar-10-python.tar.gz\n"
          ]
        },
        {
          "output_type": "display_data",
          "data": {
            "text/plain": [
              "  0%|          | 0/170498071 [00:00<?, ?it/s]"
            ],
            "application/vnd.jupyter.widget-view+json": {
              "version_major": 2,
              "version_minor": 0,
              "model_id": "cf80df15491f49159e66683de0da93fd"
            }
          },
          "metadata": {}
        },
        {
          "output_type": "stream",
          "name": "stdout",
          "text": [
            "Extracting ./data/cifar-10-python.tar.gz to ./data\n",
            "Files already downloaded and verified\n"
          ]
        }
      ],
      "source": [
        "transform = transforms.Compose(\n",
        "        [transforms.ToTensor(),\n",
        "         transforms.Normalize((0.5, 0.5, 0.5), (0.5, 0.5, 0.5))]\n",
        ")\n",
        "\n",
        "train_loader, val_loader, test_loader = get_cifar10_data(batch_size=64, \n",
        "                                                         transform_train=transform)"
      ]
    },
    {
      "cell_type": "markdown",
      "metadata": {
        "id": "-82HWgXs77W1"
      },
      "source": [
        "Посмотрим на изображения:"
      ]
    },
    {
      "cell_type": "code",
      "execution_count": 4,
      "metadata": {
        "colab": {
          "base_uri": "https://localhost:8080/",
          "height": 156
        },
        "id": "ACnwaC5iy6L2",
        "outputId": "90c1d229-498e-4bd7-f854-dbed55c5d64b"
      },
      "outputs": [
        {
          "output_type": "display_data",
          "data": {
            "text/plain": [
              "<Figure size 432x288 with 1 Axes>"
            ],
            "image/png": "[encoded data removed]"
          },
          "metadata": {
            "needs_background": "light"
          }
        },
        {
          "output_type": "stream",
          "name": "stdout",
          "text": [
            "ship frog horse horse\n"
          ]
        }
      ],
      "source": [
        "def imshow(img):\n",
        "    img = img / 2 + 0.5    \n",
        "    npimg = img.numpy()\n",
        "    plt.imshow(np.transpose(npimg, (1, 2, 0)))\n",
        "    plt.show()\n",
        "\n",
        "\n",
        "dataiter = iter(train_loader)\n",
        "images, labels = dataiter.next()\n",
        "\n",
        "imshow(torchvision.utils.make_grid(images[:4]))\n",
        "\n",
        "classes = ('plane', 'car', 'bird', 'cat',\n",
        "           'deer', 'dog', 'frog', 'horse', 'ship', 'truck')\n",
        "print(*[classes[labels[i]] for i in range(4)])"
      ]
    },
    {
      "cell_type": "markdown",
      "metadata": {
        "id": "KFDilng29YZ_"
      },
      "source": [
        "## 1. Задание сверточной сети (3 балла)"
      ]
    },
    {
      "cell_type": "markdown",
      "metadata": {
        "id": "OX7Ul8YbYdQR"
      },
      "source": [
        "Теперь нам нужно задать сверточную нейронную сеть, которую мы будем обучать классифицировать изображения.\n",
        "\n",
        "Используем сеть, основанную на одном блоке архитектуры ResNet.\n",
        "\n",
        "<img src=\"https://i.ibb.co/2hg962h/basic-block.png\" width=\"500\"/>\n",
        "\n",
        "__Указания:__\n",
        "\n",
        "- Все сверточные слои должны иметь 32 выходных канала, а также не должны изменять ширину и высоту изображения.\n",
        "- Выход блока сократите до размерности 32х4х4, применив average pooling.\n",
        "- Для получения итоговых логитов, распрямите выход пулинга в вектор из 512 элементов, а затем пропустите его через линейный слой."
      ]
    },
    {
      "cell_type": "markdown",
      "metadata": {
        "id": "sbyIylT9O9Dr"
      },
      "source": [
        "**Задание 1.1 (3 балла).**\n",
        "\n",
        "Определите архитектуру сети соответственно схеме и указаниям выше.\n",
        "\n",
        "Ключевые слова: <code>Conv2d</code>, <code>BatchNorm2d</code>, <code>AvgPool2d</code>."
      ]
    },
    {
      "cell_type": "code",
      "execution_count": 5,
      "metadata": {
        "id": "s9ml1QGKy6N9"
      },
      "outputs": [],
      "source": [
        "n_classes = 10\n",
        "\n",
        "class BasicBlockNet(nn.Module):\n",
        "    def __init__(self):\n",
        "        super().__init__()\n",
        "        \n",
        "        self.encoder = nn.Sequential(\n",
        "            nn.Conv2d(in_channels=3, out_channels=32, kernel_size=3, padding=1),\n",
        "            nn.BatchNorm2d(32),\n",
        "            nn.ReLU(),\n",
        "            nn.Conv2d(in_channels=32, out_channels=32, kernel_size=3, padding=1),\n",
        "            nn.BatchNorm2d(32),\n",
        "        )\n",
        "        self.avg = nn.AvgPool2d(8)\n",
        "        self.l = nn.Linear(512, 10)\n",
        "        self.relu = nn.ReLU()\n",
        "        self.block = nn.Conv2d(in_channels=3, out_channels=32, kernel_size=1)\n",
        "\n",
        "\n",
        "    def forward(self, x):\n",
        "        out = self.encoder(x) + self.block(x)\n",
        "        out = self.relu(out)\n",
        "        out = self.avg(out)\n",
        "        out = torch.flatten(out, 1)\n",
        "        out = self.l(out)\n",
        "        \n",
        "        return out"
      ]
    },
    {
      "cell_type": "code",
      "execution_count": 6,
      "metadata": {
        "id": "FI4BQg7Ky6Pw",
        "colab": {
          "base_uri": "https://localhost:8080/"
        },
        "outputId": "dd354ba0-0246-4989-e244-aaea3f498c28"
      },
      "outputs": [
        {
          "output_type": "execute_result",
          "data": {
            "text/plain": [
              "BasicBlockNet(\n",
              "  (encoder): Sequential(\n",
              "    (0): Conv2d(3, 32, kernel_size=(3, 3), stride=(1, 1), padding=(1, 1))\n",
              "    (1): BatchNorm2d(32, eps=1e-05, momentum=0.1, affine=True, track_running_stats=True)\n",
              "    (2): ReLU()\n",
              "    (3): Conv2d(32, 32, kernel_size=(3, 3), stride=(1, 1), padding=(1, 1))\n",
              "    (4): BatchNorm2d(32, eps=1e-05, momentum=0.1, affine=True, track_running_stats=True)\n",
              "  )\n",
              "  (avg): AvgPool2d(kernel_size=8, stride=8, padding=0)\n",
              "  (l): Linear(in_features=512, out_features=10, bias=True)\n",
              "  (relu): ReLU()\n",
              "  (block): Conv2d(3, 32, kernel_size=(1, 1), stride=(1, 1))\n",
              ")"
            ]
          },
          "metadata": {},
          "execution_count": 6
        }
      ],
      "source": [
        "net = BasicBlockNet()\n",
        "net"
      ]
    },
    {
      "cell_type": "markdown",
      "metadata": {
        "id": "igPoGZEub8d3"
      },
      "source": [
        "Проверим, что выход сети имеет корректную размерность:"
      ]
    },
    {
      "cell_type": "code",
      "execution_count": 8,
      "metadata": {
        "id": "cCIzFUpJ_Agw"
      },
      "outputs": [],
      "source": [
        "assert net(torch.zeros((10, 3, 32, 32))).shape == (10, 10)"
      ]
    },
    {
      "cell_type": "markdown",
      "metadata": {
        "id": "08osX622cDGz"
      },
      "source": [
        "Чтобы проводить вычисления на GPU, в PyTorch необходимо руками перекладывать объекты, с которыми вы хотите проводить вычисления, на графический ускоритель. Это делается следующим образрм:"
      ]
    },
    {
      "cell_type": "code",
      "execution_count": 7,
      "metadata": {
        "id": "56hDOMCFcDZX",
        "colab": {
          "base_uri": "https://localhost:8080/"
        },
        "outputId": "8cc54b59-f721-4b80-a7be-b488baad3b65"
      },
      "outputs": [
        {
          "output_type": "stream",
          "name": "stdout",
          "text": [
            "cuda:0\n"
          ]
        }
      ],
      "source": [
        "device = torch.device('cuda:0' if torch.cuda.is_available() else 'cpu')\n",
        "print(device)"
      ]
    },
    {
      "cell_type": "code",
      "execution_count": 8,
      "metadata": {
        "id": "ohnDWbp0qbtC"
      },
      "outputs": [],
      "source": [
        "net = net.to(device)"
      ]
    },
    {
      "cell_type": "markdown",
      "metadata": {
        "id": "H_bOlTVUp5QF"
      },
      "source": [
        "Подключение GPU в google.colab:\n",
        "\n",
        "**Среда выполнения** -> **Сменить среду выполнения** -> **Аппаратный ускоритель** -> **GPU**"
      ]
    },
    {
      "cell_type": "markdown",
      "metadata": {
        "id": "AGi6XX_7_Bgg"
      },
      "source": [
        "## 2. Обучение и тестирование модели (3 балла)"
      ]
    },
    {
      "cell_type": "markdown",
      "metadata": {
        "id": "0agj_MQoO9Ds"
      },
      "source": [
        "**Задание 2.1 (2 балла).** Переходим к обучению модели. Заполните пропуски в функциях <code>test</code> и <code>train_epoch</code>. В качестве функции потерь будем использовать [кросс-энтропию](https://pytorch.org/docs/stable/generated/torch.nn.functional.cross_entropy.html), а в качестве метрики качества accuracy."
      ]
    },
    {
      "cell_type": "code",
      "execution_count": 40,
      "metadata": {
        "id": "g8gsPPRIevDS"
      },
      "outputs": [],
      "source": [
        "import torch\n",
        "import torchmetrics\n",
        "\n",
        "def test(model, loader):\n",
        "    loss_log = []\n",
        "    acc_log = []\n",
        "    model.eval()\n",
        "    accuracy = torchmetrics.Accuracy().to(device)\n",
        "    lossfunc = nn.CrossEntropyLoss()\n",
        "    \n",
        "    for data, target in loader:\n",
        "        data = data.to(device)\n",
        "        target = target.to(device)\n",
        "        \n",
        "        x = model(data)\n",
        "        loss = lossfunc(x, target)\n",
        "        \n",
        "        loss_log.append(loss.item())\n",
        "        \n",
        "        # <your code here>\n",
        "        \n",
        "        acc = accuracy(x, target)\n",
        "        \n",
        "        acc_log.append(acc.item()) \n",
        "        \n",
        "    return np.mean(loss_log), np.mean(acc_log)\n",
        "\n",
        "def train_epoch(model, optimizer, train_loader):\n",
        "    loss_log = []\n",
        "    acc_log = []\n",
        "    model.train()\n",
        "    accuracy = torchmetrics.Accuracy().to(device)\n",
        "    lossfunc = nn.CrossEntropyLoss()\n",
        "    \n",
        "    for data, target in train_loader:\n",
        "        data = data.to(device)\n",
        "        target = target.to(device)\n",
        "        \n",
        "        # <your code here>\n",
        "        optimizer.zero_grad()\n",
        "        \n",
        "        x = model(data)\n",
        "        loss = lossfunc(x, target)\n",
        "        \n",
        "        loss_log.append(loss.item())\n",
        "        \n",
        "        loss.backward()\n",
        "        optimizer.step()\n",
        "        \n",
        "        # <your code here>\n",
        "        \n",
        "        acc = accuracy(x, target)\n",
        "        acc_log.append(acc.item()) \n",
        "\n",
        "    return loss_log, acc_log\n",
        "\n",
        "def train(model, optimizer, n_epochs, train_loader, val_loader, scheduler=None):\n",
        "    train_loss_log, train_acc_log, val_loss_log, val_acc_log = [], [], [], []\n",
        "\n",
        "    for epoch in range(n_epochs):\n",
        "        train_loss, train_acc = train_epoch(model, optimizer, train_loader)\n",
        "        val_loss, val_acc = test(model, val_loader)\n",
        "        \n",
        "        train_loss_log.extend(train_loss)\n",
        "        train_acc_log.extend(train_acc)\n",
        "        \n",
        "        val_loss_log.append(val_loss)\n",
        "        val_acc_log.append(val_acc)\n",
        "\n",
        "        print(f\"Epoch {epoch}\")\n",
        "        print(f\" train loss: {np.mean(train_loss)}, train acc: {np.mean(train_acc)}\")\n",
        "        print(f\" val loss: {val_loss}, val acc: {val_acc}\\n\")\n",
        "        \n",
        "        if scheduler is not None:\n",
        "            scheduler.step()\n",
        "\n",
        "    return train_loss_log, train_acc_log, val_loss_log, val_acc_log"
      ]
    },
    {
      "cell_type": "markdown",
      "metadata": {
        "id": "iSOqk_CAO9Dt"
      },
      "source": [
        "Запустим обучение модели. В качестве оптимизатора будем использовать стохастический градиентный спуск, который является де-факто стандартом в задачах компьютерного зрения (наравне с <code>Adam</code>).\n",
        "\n",
        "__Замечание:__ Для достижения наилучшего качества в нашем случае потребуется обучать модель несколько сотен эпох. Однако в целях экономии вашего времени и сил, во всех экспериментах мы ограничимся 20 эпохами."
      ]
    },
    {
      "cell_type": "code",
      "execution_count": 34,
      "metadata": {
        "id": "MKZBGhuAgMDu",
        "scrolled": true,
        "outputId": "dc19da32-a425-494d-a52c-79caed11b63c",
        "colab": {
          "base_uri": "https://localhost:8080/"
        }
      },
      "outputs": [
        {
          "output_type": "stream",
          "name": "stdout",
          "text": [
            "Epoch 0\n",
            " train loss: 0.8183312672692635, train acc: 0.7155711347921675\n",
            " val loss: 0.8801270992197889, val acc: 0.6970744680851064\n",
            "\n",
            "Epoch 1\n",
            " train loss: 0.8031785762724101, train acc: 0.721116805970124\n",
            " val loss: 0.9495400436381076, val acc: 0.6720079787234042\n",
            "\n",
            "Epoch 2\n",
            " train loss: 0.7921730130093625, train acc: 0.7274378101176274\n",
            " val loss: 0.8616859300339476, val acc: 0.7048980497299356\n",
            "\n",
            "Epoch 3\n",
            " train loss: 0.7741366335526245, train acc: 0.7302575737946212\n",
            " val loss: 0.8858778330873935, val acc: 0.6994902481424048\n",
            "\n",
            "Epoch 4\n",
            " train loss: 0.7677859463465061, train acc: 0.7342117719720007\n",
            " val loss: 0.888698592591793, val acc: 0.7021941489361702\n",
            "\n",
            "Epoch 5\n",
            " train loss: 0.7560067878562746, train acc: 0.7384393770908307\n",
            " val loss: 0.8366051389815959, val acc: 0.7168661348363187\n",
            "\n",
            "Epoch 6\n",
            " train loss: 0.750324384277002, train acc: 0.7381578087806702\n",
            " val loss: 0.8964073174811424, val acc: 0.6962101063829788\n",
            "\n",
            "Epoch 7\n",
            " train loss: 0.7486326343071744, train acc: 0.7408755550218893\n",
            " val loss: 0.8692423642949855, val acc: 0.7060505319148936\n",
            "\n",
            "Epoch 8\n",
            " train loss: 0.7333671548139896, train acc: 0.747837229010392\n",
            " val loss: 0.8763298336495744, val acc: 0.7070921986661058\n",
            "\n",
            "Epoch 9\n",
            " train loss: 0.7350748798637983, train acc: 0.7437524483888197\n",
            " val loss: 0.8275594048043515, val acc: 0.7204343970785749\n",
            "\n",
            "Epoch 10\n",
            " train loss: 0.7228962320841209, train acc: 0.7500204035307415\n",
            " val loss: 0.8614833417090964, val acc: 0.7076019502700643\n",
            "\n",
            "Epoch 11\n",
            " train loss: 0.7240215529035606, train acc: 0.7503917472236117\n",
            " val loss: 0.8406889921807228, val acc: 0.7135195034615537\n",
            "\n",
            "Epoch 12\n",
            " train loss: 0.7122742648643375, train acc: 0.7517995886654479\n",
            " val loss: 0.8439937923816925, val acc: 0.717375886440277\n",
            "\n",
            "Epoch 13\n",
            " train loss: 0.7121225003241621, train acc: 0.7523178375399309\n",
            " val loss: 0.8506247509033122, val acc: 0.7095966311211281\n",
            "\n",
            "Epoch 14\n",
            " train loss: 0.7019355215363791, train acc: 0.755578316761763\n",
            " val loss: 0.8856846926060129, val acc: 0.7019281914893617\n",
            "\n",
            "Epoch 15\n",
            " train loss: 0.6983029161881267, train acc: 0.7565740075582125\n",
            " val loss: 0.8548211454076969, val acc: 0.7096187944107867\n",
            "\n",
            "Epoch 16\n",
            " train loss: 0.6938366774449183, train acc: 0.7593856098664962\n",
            " val loss: 0.8225951050190216, val acc: 0.7208333332487877\n",
            "\n",
            "Epoch 17\n",
            " train loss: 0.683979032190016, train acc: 0.7643681444241316\n",
            " val loss: 0.8415679021084562, val acc: 0.7243572694190005\n",
            "\n",
            "Epoch 18\n",
            " train loss: 0.6816098643177388, train acc: 0.7634826325411335\n",
            " val loss: 0.827308222461254, val acc: 0.7234929077168728\n",
            "\n",
            "Epoch 19\n",
            " train loss: 0.678122200957164, train acc: 0.7646293092035507\n",
            " val loss: 0.8914860152183695, val acc: 0.7103501773895101\n",
            "\n"
          ]
        }
      ],
      "source": [
        "optimizer = optim.SGD(net.parameters(), lr=0.1, momentum=0.9)\n",
        "train_loss_log, train_acc_log, val_loss_log, val_acc_log = train(net, optimizer, 20, train_loader, val_loader)"
      ]
    },
    {
      "cell_type": "markdown",
      "metadata": {
        "id": "gUb1jQW8O9Dt"
      },
      "source": [
        "Посчитайте точность на тестовой выборке:"
      ]
    },
    {
      "cell_type": "code",
      "execution_count": 13,
      "metadata": {
        "id": "Jyuc55B9_Amc",
        "colab": {
          "base_uri": "https://localhost:8080/"
        },
        "outputId": "1cbb06df-e628-4bed-b9f3-2029b2d9fbf3"
      },
      "outputs": [
        {
          "output_type": "stream",
          "name": "stdout",
          "text": [
            "0.9095955466388896 0.6860071656050956\n"
          ]
        }
      ],
      "source": [
        "loss, acc = test(net, test_loader)\n",
        "print(loss, acc)"
      ]
    },
    {
      "cell_type": "code",
      "source": [],
      "metadata": {
        "id": "IRq48JWYzk-F"
      },
      "execution_count": 13,
      "outputs": []
    },
    {
      "cell_type": "markdown",
      "metadata": {
        "id": "zM38Q9fwO9Dt"
      },
      "source": [
        "Если вы все сделали правильно, у вас должна была получиться точность $\\ge 67\\%$."
      ]
    },
    {
      "cell_type": "markdown",
      "metadata": {
        "id": "DHFNSKcoO9Dt"
      },
      "source": [
        "**Задание 2.2 (1 балл).** Постройте графики зависимости функции потерь и точности классификации от номера шага оптимизатора. На каждом графике расположите данные и для обучающей и для валидационной выборки, итого у вас должно получиться два графика. Обратите внимание, что на обучающей выборке эти данные считаются по каждому батчу, на валидационной же они считаются по всей выборке раз в эпоху."
      ]
    },
    {
      "cell_type": "code",
      "execution_count": 37,
      "metadata": {
        "id": "LzIP0tGLO9Dt",
        "colab": {
          "base_uri": "https://localhost:8080/",
          "height": 265
        },
        "outputId": "3fdecd31-6004-49ba-dca8-032e57eefb4e"
      },
      "outputs": [
        {
          "output_type": "display_data",
          "data": {
            "text/plain": [
              "<Figure size 432x288 with 1 Axes>"
            ],
            "image/png": "[encoded data removed]"
          },
          "metadata": {
            "needs_background": "light"
          }
        }
      ],
      "source": [
        "plt.plot(train_loss_log, label='train loss log')\n",
        "plt.plot(range(0, len(train_loss_log), len(train_loss_log) // len(val_loss_log)), val_loss_log, label='val loss log')\n",
        "plt.legend()\n",
        "plt.show()"
      ]
    },
    {
      "cell_type": "code",
      "source": [
        "plt.plot(train_acc_log, label='train acc log')\n",
        "plt.plot(range(0, len(train_acc_log), len(train_acc_log) // len(val_acc_log)), val_acc_log, label='val loss log')\n",
        "plt.legend()\n",
        "plt.show()"
      ],
      "metadata": {
        "colab": {
          "base_uri": "https://localhost:8080/",
          "height": 265
        },
        "id": "FwheQ3wUzpcM",
        "outputId": "5252e642-d889-434d-d550-39e16ed0976d"
      },
      "execution_count": 38,
      "outputs": [
        {
          "output_type": "display_data",
          "data": {
            "text/plain": [
              "<Figure size 432x288 with 1 Axes>"
            ],
            "image/png": "[encoded data removed]"
          },
          "metadata": {
            "needs_background": "light"
          }
        }
      ]
    },
    {
      "cell_type": "markdown",
      "metadata": {
        "id": "_ttOJPj-O9Dt"
      },
      "source": [
        "## 3. Расписание длины шага (2 балла)"
      ]
    },
    {
      "cell_type": "markdown",
      "metadata": {
        "id": "qiz3JstuO9Dt"
      },
      "source": [
        "С курса \"Машинное обучение 1\" вы уже должны знать, что сходимость стохастического градиентного спуска мы можем теоретически гарантировать только если будем определенным образом со временем уменьшать длину шага. На практике при обучении нейронных сетей такая техника оказывается очень полезной, однако теоретически обоснованными способами уменьшения длины шага фантазия не ограничивается.\n",
        "\n",
        "Одним из простейших способов является кусочно постоянная функция: на нескольких фиксированных эпохах уменьшаем длину шага в константу раз."
      ]
    },
    {
      "cell_type": "code",
      "execution_count": 16,
      "metadata": {
        "id": "V2Z0OT3nO9Du",
        "colab": {
          "base_uri": "https://localhost:8080/"
        },
        "outputId": "6756b728-1ed8-4c11-f657-7c89c6541476"
      },
      "outputs": [
        {
          "output_type": "stream",
          "name": "stdout",
          "text": [
            "Epoch 0\n",
            " train loss: 1.4933056048980797, train acc: 0.46646072735952065\n",
            " val loss: 1.3414000724224333, val acc: 0.5203014183551707\n",
            "\n",
            "Epoch 1\n",
            " train loss: 1.1759668065599376, train acc: 0.5872208800786592\n",
            " val loss: 1.136753463998754, val acc: 0.598359929120287\n",
            "\n",
            "Epoch 2\n",
            " train loss: 1.0649669976731324, train acc: 0.6303702010968921\n",
            " val loss: 1.1157312583416066, val acc: 0.6118794327086591\n",
            "\n",
            "Epoch 3\n",
            " train loss: 1.0023253038116957, train acc: 0.6514592582608489\n",
            " val loss: 0.993080560704495, val acc: 0.6548980497299357\n",
            "\n",
            "Epoch 4\n",
            " train loss: 0.9591636824433503, train acc: 0.6674474405850092\n",
            " val loss: 0.989999269170964, val acc: 0.6543218085106383\n",
            "\n",
            "Epoch 5\n",
            " train loss: 0.9248054395319121, train acc: 0.6803587751371115\n",
            " val loss: 0.9735324268645429, val acc: 0.6625664893617021\n",
            "\n",
            "Epoch 6\n",
            " train loss: 0.905458379652644, train acc: 0.6828031144368801\n",
            " val loss: 0.9169622667292331, val acc: 0.6810505319148936\n",
            "\n",
            "Epoch 7\n",
            " train loss: 0.8815508631945093, train acc: 0.6933843692870201\n",
            " val loss: 0.8963933549028762, val acc: 0.6921320922831271\n",
            "\n",
            "Epoch 8\n",
            " train loss: 0.8634511051491802, train acc: 0.7005011099348121\n",
            " val loss: 0.8858938518990862, val acc: 0.69375\n",
            "\n",
            "Epoch 9\n",
            " train loss: 0.8556112854092823, train acc: 0.7039615434528051\n",
            " val loss: 0.8869693959012944, val acc: 0.6952349289934686\n",
            "\n",
            "Epoch 10\n",
            " train loss: 0.7440739022312478, train acc: 0.7430668908019824\n",
            " val loss: 0.8330683878127565, val acc: 0.711968085106383\n",
            "\n",
            "Epoch 11\n",
            " train loss: 0.7276796911054817, train acc: 0.7477882606891653\n",
            " val loss: 0.8278395842998586, val acc: 0.7173315603682335\n",
            "\n",
            "Epoch 12\n",
            " train loss: 0.722075651724988, train acc: 0.7515343432016739\n",
            " val loss: 0.8259188507465606, val acc: 0.7144060284533399\n",
            "\n",
            "Epoch 13\n",
            " train loss: 0.7171301133998788, train acc: 0.7515914730005769\n",
            " val loss: 0.8273387472680275, val acc: 0.7153368795171697\n",
            "\n",
            "Epoch 14\n",
            " train loss: 0.7129501017181703, train acc: 0.7531584617860574\n",
            " val loss: 0.8232056130754187, val acc: 0.7172650710065314\n",
            "\n",
            "Epoch 15\n",
            " train loss: 0.7000676941065291, train acc: 0.7583164664247573\n",
            " val loss: 0.8180729237008602, val acc: 0.7205008864402771\n",
            "\n",
            "Epoch 16\n",
            " train loss: 0.696864070197128, train acc: 0.7599324236404308\n",
            " val loss: 0.8149386584758759, val acc: 0.7211879433469569\n",
            "\n",
            "Epoch 17\n",
            " train loss: 0.6959888985758508, train acc: 0.7617646578896852\n",
            " val loss: 0.8150062482407753, val acc: 0.7210549646235527\n",
            "\n",
            "Epoch 18\n",
            " train loss: 0.6961656683541739, train acc: 0.7604139462467522\n",
            " val loss: 0.8161291856715019, val acc: 0.7214539007937655\n",
            "\n",
            "Epoch 19\n",
            " train loss: 0.6948078005579751, train acc: 0.7618870788562014\n",
            " val loss: 0.8146978205822883, val acc: 0.7209219859001484\n",
            "\n"
          ]
        }
      ],
      "source": [
        "net = BasicBlockNet().to(device)\n",
        "optimizer = optim.SGD(net.parameters(), lr=0.1, momentum=0.9)\n",
        "scheduler = optim.lr_scheduler.MultiStepLR(optimizer, milestones=[10, 15], gamma=0.1)\n",
        "tr_loss_log, tr_acc_log, val_loss_log, val_acc_log = train(net, optimizer, 20, train_loader, val_loader, scheduler)"
      ]
    },
    {
      "cell_type": "markdown",
      "metadata": {
        "id": "5Xc76KvzO9Du"
      },
      "source": [
        "Посчитайте точность на тестовой выборке:"
      ]
    },
    {
      "cell_type": "code",
      "execution_count": 17,
      "metadata": {
        "id": "1AjiYhKqO9Du",
        "colab": {
          "base_uri": "https://localhost:8080/"
        },
        "outputId": "4b9e8be6-15e0-4794-d803-32d1d85f3f36"
      },
      "outputs": [
        {
          "output_type": "stream",
          "name": "stdout",
          "text": [
            "0.8267471327143869 0.7178542993630573\n"
          ]
        }
      ],
      "source": [
        "loss, acc = test(net, test_loader)\n",
        "print(loss, acc)"
      ]
    },
    {
      "cell_type": "markdown",
      "metadata": {
        "id": "yE0dgLYrO9Du"
      },
      "source": [
        "**Задание 3.0 (0.5 баллов).** Здесь может возникнуть вопрос: а что будет, если мы не будем уменьшать длину шага в процессе обучения, а сразу возьмем констатную, равную значению нашей кусочно-постоянной функции на последних эпохах, то есть $0.001$ в нашем случае. Запустите обучение и проверьте, что в таком случае мы получим худшее качество на тестовой выборке."
      ]
    },
    {
      "cell_type": "code",
      "execution_count": 18,
      "metadata": {
        "id": "qZ2iB-LBO9Du",
        "colab": {
          "base_uri": "https://localhost:8080/"
        },
        "outputId": "71ea41bb-938c-409d-d56b-9da843f75830"
      },
      "outputs": [
        {
          "output_type": "stream",
          "name": "stdout",
          "text": [
            "Epoch 0\n",
            " train loss: 1.5340507102404914, train acc: 0.44756300603014026\n",
            " val loss: 1.3351156452868846, val acc: 0.5179964538584364\n",
            "\n",
            "Epoch 1\n",
            " train loss: 1.232183578790215, train acc: 0.5622714808043876\n",
            " val loss: 1.1933475116465955, val acc: 0.5858377659574469\n",
            "\n",
            "Epoch 2\n",
            " train loss: 1.0910657107067283, train acc: 0.6187932554503027\n",
            " val loss: 1.1015837585672419, val acc: 0.6137854609083622\n",
            "\n",
            "Epoch 3\n",
            " train loss: 1.0229188375978626, train acc: 0.641388090916482\n",
            " val loss: 0.9951596465516598, val acc: 0.6544769502700644\n",
            "\n",
            "Epoch 4\n",
            " train loss: 0.9766154824270845, train acc: 0.6593513319871543\n",
            " val loss: 0.9716077487519447, val acc: 0.6622562055892133\n",
            "\n",
            "Epoch 5\n",
            " train loss: 0.9435892913633552, train acc: 0.6721116805643225\n",
            " val loss: 0.9353941077881671, val acc: 0.6767952127659574\n",
            "\n",
            "Epoch 6\n",
            " train loss: 0.9200401050081201, train acc: 0.6802975646538534\n",
            " val loss: 0.9157908675518441, val acc: 0.680718085106383\n",
            "\n",
            "Epoch 7\n",
            " train loss: 0.8998426611942173, train acc: 0.6891159572156735\n",
            " val loss: 0.9378776491956508, val acc: 0.6731826241980208\n",
            "\n",
            "Epoch 8\n",
            " train loss: 0.8813691749433277, train acc: 0.696530588911046\n",
            " val loss: 0.8999157608823574, val acc: 0.6891843970785749\n",
            "\n",
            "Epoch 9\n",
            " train loss: 0.8642730241065923, train acc: 0.7007826782449725\n",
            " val loss: 0.8874218851961988, val acc: 0.691533688027808\n",
            "\n",
            "Epoch 10\n",
            " train loss: 0.8485055769056463, train acc: 0.7063446722693155\n",
            " val loss: 0.9191845346004405, val acc: 0.6765735816448293\n",
            "\n",
            "Epoch 11\n",
            " train loss: 0.8333606089054993, train acc: 0.7135471076154621\n",
            " val loss: 0.8696649226736515, val acc: 0.6980053191489362\n",
            "\n",
            "Epoch 12\n",
            " train loss: 0.828271479013851, train acc: 0.7134369287020109\n",
            " val loss: 0.8883028342368755, val acc: 0.6938386523977239\n",
            "\n",
            "Epoch 13\n",
            " train loss: 0.8077838743408594, train acc: 0.7218472511938329\n",
            " val loss: 0.8677558112651744, val acc: 0.703812056653043\n",
            "\n",
            "Epoch 14\n",
            " train loss: 0.8013975138638094, train acc: 0.7246751762395367\n",
            " val loss: 0.8563074439129931, val acc: 0.7036347518575953\n",
            "\n",
            "Epoch 15\n",
            " train loss: 0.7902849029470406, train acc: 0.7277193784277879\n",
            " val loss: 0.8839546345649881, val acc: 0.6973404255319149\n",
            "\n",
            "Epoch 16\n",
            " train loss: 0.7818203762418827, train acc: 0.7319877904991345\n",
            " val loss: 0.8541571269644067, val acc: 0.7099290779296388\n",
            "\n",
            "Epoch 17\n",
            " train loss: 0.7763711802484349, train acc: 0.7333629864661305\n",
            " val loss: 0.8333661924017236, val acc: 0.714184397078575\n",
            "\n",
            "Epoch 18\n",
            " train loss: 0.7688535098292928, train acc: 0.7339424458238717\n",
            " val loss: 0.8517389776858878, val acc: 0.7112588651636813\n",
            "\n",
            "Epoch 19\n",
            " train loss: 0.7600353545419041, train acc: 0.7362766062101891\n",
            " val loss: 0.8272573370882805, val acc: 0.7139627659574468\n",
            "\n"
          ]
        }
      ],
      "source": [
        "net = BasicBlockNet().to(device)\n",
        "optimizer = optim.SGD(net.parameters(), lr=0.01, momentum=0.9)\n",
        "tr_loss_log, tr_acc_log, val_loss_log, val_acc_log = train(net, optimizer, 20, train_loader, val_loader, scheduler)"
      ]
    },
    {
      "cell_type": "code",
      "source": [
        "loss, acc = test(net, test_loader)\n",
        "print(loss, acc)"
      ],
      "metadata": {
        "colab": {
          "base_uri": "https://localhost:8080/"
        },
        "id": "FnmvI3xn1EQ7",
        "outputId": "91684182-5a25-4963-b83d-8d0adbf56c2a"
      },
      "execution_count": 19,
      "outputs": [
        {
          "output_type": "stream",
          "name": "stdout",
          "text": [
            "0.8387860936723697 0.7086982484076433\n"
          ]
        }
      ]
    },
    {
      "cell_type": "markdown",
      "metadata": {
        "id": "xVotU378O9Du"
      },
      "source": [
        "**Задание 3.1 (1.5 балла).** Изучите, какие еще способы уменьшения длины шага представлены в <code>torch.optim.lr_scheduler</code>. Выберите несколько из них, объясните, как они устроены, и обучите модель с ними. Удалось ли добиться улучшения качества на тестовой выборке?"
      ]
    },
    {
      "cell_type": "code",
      "execution_count": 20,
      "metadata": {
        "id": "nkGlzocOO9Du",
        "colab": {
          "base_uri": "https://localhost:8080/"
        },
        "outputId": "8a19ae4d-bab8-418b-cb96-021ba574d6cb"
      },
      "outputs": [
        {
          "output_type": "stream",
          "name": "stdout",
          "text": [
            "Epoch 0\n",
            " train loss: 1.4880903670513217, train acc: 0.46926008750577297\n",
            " val loss: 1.347588640324613, val acc: 0.5290115248649678\n",
            "\n",
            "Epoch 1\n",
            " train loss: 1.1561705413422594, train acc: 0.5959535779421247\n",
            " val loss: 1.0757943110263093, val acc: 0.6242464539852548\n",
            "\n",
            "Epoch 2\n",
            " train loss: 1.0511435336778978, train acc: 0.6327614912821127\n",
            " val loss: 1.0251216878282263, val acc: 0.646719858240574\n",
            "\n",
            "Epoch 3\n",
            " train loss: 0.9869232831533038, train acc: 0.6555154739829696\n",
            " val loss: 1.050060899714206, val acc: 0.6314716311211281\n",
            "\n",
            "Epoch 4\n",
            " train loss: 0.9453340712151536, train acc: 0.6710302950695184\n",
            " val loss: 0.9965179641196068, val acc: 0.6502216311211282\n",
            "\n",
            "Epoch 5\n",
            " train loss: 0.9093095005321329, train acc: 0.6834274614314928\n",
            " val loss: 1.0019363700075352, val acc: 0.6600620566530431\n",
            "\n",
            "Epoch 6\n",
            " train loss: 0.8855401905188831, train acc: 0.6941229759884054\n",
            " val loss: 0.9501523674802578, val acc: 0.6761746454746165\n",
            "\n",
            "Epoch 7\n",
            " train loss: 0.8604439868569592, train acc: 0.7022517301700669\n",
            " val loss: 0.9022767285083203, val acc: 0.6864140071767442\n",
            "\n",
            "Epoch 8\n",
            " train loss: 0.8393532495394049, train acc: 0.7083686994460209\n",
            " val loss: 0.8813438927873652, val acc: 0.6958776595744681\n",
            "\n",
            "Epoch 9\n",
            " train loss: 0.8207850312402087, train acc: 0.7137266583808816\n",
            " val loss: 0.8814646119767047, val acc: 0.6968306736743196\n",
            "\n",
            "Epoch 10\n",
            " train loss: 0.8000149881055194, train acc: 0.7208148341292219\n",
            " val loss: 0.8831302358749065, val acc: 0.7013741135597229\n",
            "\n",
            "Epoch 11\n",
            " train loss: 0.7888324587611001, train acc: 0.7250750848318585\n",
            " val loss: 0.8333667585190306, val acc: 0.7155141843126175\n",
            "\n",
            "Epoch 12\n",
            " train loss: 0.7783482362953793, train acc: 0.7318857730633598\n",
            " val loss: 0.8465017879262884, val acc: 0.709219858240574\n",
            "\n",
            "Epoch 13\n",
            " train loss: 0.763184000303802, train acc: 0.7368479041992202\n",
            " val loss: 0.8511294849375461, val acc: 0.7090425531914893\n",
            "\n",
            "Epoch 14\n",
            " train loss: 0.7522754165764483, train acc: 0.7386882998171846\n",
            " val loss: 0.8249176791373719, val acc: 0.7179964539852548\n",
            "\n",
            "Epoch 15\n",
            " train loss: 0.7401493770330871, train acc: 0.7451888548390739\n",
            " val loss: 0.8463242923959773, val acc: 0.712588652397724\n",
            "\n",
            "Epoch 16\n",
            " train loss: 0.7345212612988962, train acc: 0.7449154478976234\n",
            " val loss: 0.8354288760651933, val acc: 0.7135859928232559\n",
            "\n",
            "Epoch 17\n",
            " train loss: 0.7242469603989199, train acc: 0.749179779284615\n",
            " val loss: 0.8208472647565477, val acc: 0.7178856382978723\n",
            "\n",
            "Epoch 18\n",
            " train loss: 0.7160595418984101, train acc: 0.7524361778220922\n",
            " val loss: 0.8165151979060883, val acc: 0.7205452127659574\n",
            "\n",
            "Epoch 19\n",
            " train loss: 0.7088515347166079, train acc: 0.7553783624656022\n",
            " val loss: 0.8098794348696445, val acc: 0.7242686170212767\n",
            "\n"
          ]
        }
      ],
      "source": [
        "net = BasicBlockNet().to(device)\n",
        "optimizer = optim.SGD(net.parameters(), lr=0.1, momentum=0.9)\n",
        "scheduler = torch.optim.lr_scheduler.ExponentialLR(optimizer, gamma=0.9)\n",
        "tr_loss_log, tr_acc_log, val_loss_log, val_acc_log = train(net, optimizer, 20, train_loader, val_loader, scheduler)"
      ]
    },
    {
      "cell_type": "code",
      "source": [
        "loss, acc = test(net, test_loader)\n",
        "print(loss, acc)"
      ],
      "metadata": {
        "colab": {
          "base_uri": "https://localhost:8080/"
        },
        "id": "9BcqtHFe24Xt",
        "outputId": "f8a2bd1a-e870-4fa7-e0e9-af6b0dd1b4b3"
      },
      "execution_count": 21,
      "outputs": [
        {
          "output_type": "stream",
          "name": "stdout",
          "text": [
            "0.832590386746036 0.7143710191082803\n"
          ]
        }
      ]
    },
    {
      "cell_type": "code",
      "source": [],
      "metadata": {
        "id": "QVFmc4eYOZ5b"
      },
      "execution_count": null,
      "outputs": []
    },
    {
      "cell_type": "code",
      "source": [
        "net = BasicBlockNet().to(device)\n",
        "optimizer = optim.SGD(net.parameters(), lr=0.1, momentum=0.9)\n",
        "scheduler = torch.optim.lr_scheduler.LinearLR(optimizer, start_factor=0.5, total_iters=4)\n",
        "tr_loss_log, tr_acc_log, val_loss_log, val_acc_log = train(net, optimizer, 20, train_loader, val_loader, scheduler)"
      ],
      "metadata": {
        "colab": {
          "base_uri": "https://localhost:8080/"
        },
        "id": "mrH1kkdsL-Xp",
        "outputId": "142c6da2-1fc0-4874-97a1-71f857ecea4c"
      },
      "execution_count": 26,
      "outputs": [
        {
          "output_type": "stream",
          "name": "stdout",
          "text": [
            "Epoch 0\n",
            " train loss: 1.4792220977150325, train acc: 0.4721043353433801\n",
            " val loss: 1.3260900555772985, val acc: 0.5272384751350322\n",
            "\n",
            "Epoch 1\n",
            " train loss: 1.1912954886609066, train acc: 0.5780841930474834\n",
            " val loss: 1.179739906179144, val acc: 0.5833998226104898\n",
            "\n",
            "Epoch 2\n",
            " train loss: 1.0857518609524646, train acc: 0.6206377317526223\n",
            " val loss: 1.120511786988441, val acc: 0.6103280140998516\n",
            "\n",
            "Epoch 3\n",
            " train loss: 1.0269964899615789, train acc: 0.6415921258969978\n",
            " val loss: 1.0273658864041593, val acc: 0.6423980497299356\n",
            "\n",
            "Epoch 4\n",
            " train loss: 0.9922444392165929, train acc: 0.6565805367403535\n",
            " val loss: 1.034588623046875, val acc: 0.6451684396317665\n",
            "\n",
            "Epoch 5\n",
            " train loss: 0.9488692700971851, train acc: 0.6702957691614545\n",
            " val loss: 1.0237750880261685, val acc: 0.6409352837724889\n",
            "\n",
            "Epoch 6\n",
            " train loss: 0.9184006366476934, train acc: 0.6812320449670446\n",
            " val loss: 0.9208849726839269, val acc: 0.6797650710065314\n",
            "\n",
            "Epoch 7\n",
            " train loss: 0.8954493511311533, train acc: 0.6878550208464836\n",
            " val loss: 1.0053396341648508, val acc: 0.6494015957446808\n",
            "\n",
            "Epoch 8\n",
            " train loss: 0.8750537700365405, train acc: 0.6959144032851433\n",
            " val loss: 1.06992928981781, val acc: 0.6285460992062345\n",
            "\n",
            "Epoch 9\n",
            " train loss: 0.8539886702894075, train acc: 0.7035453121230633\n",
            " val loss: 0.936770831016784, val acc: 0.6838652481424048\n",
            "\n",
            "Epoch 10\n",
            " train loss: 0.8418993873068794, train acc: 0.7060508617971235\n",
            " val loss: 0.8787158182326783, val acc: 0.6942154255319148\n",
            "\n",
            "Epoch 11\n",
            " train loss: 0.8272115629050588, train acc: 0.7151140964009426\n",
            " val loss: 0.8966289152490332, val acc: 0.6896941489361702\n",
            "\n",
            "Epoch 12\n",
            " train loss: 0.8150627260561181, train acc: 0.7161914011024252\n",
            " val loss: 0.9314723621023462, val acc: 0.6793661348363187\n",
            "\n",
            "Epoch 13\n",
            " train loss: 0.8067110263669295, train acc: 0.7196436732517082\n",
            " val loss: 0.8835049768711658, val acc: 0.6995124114320633\n",
            "\n",
            "Epoch 14\n",
            " train loss: 0.7936729692344909, train acc: 0.7254790742175017\n",
            " val loss: 1.007696383811058, val acc: 0.6708554965384463\n",
            "\n",
            "Epoch 15\n",
            " train loss: 0.7771512000281806, train acc: 0.727217452290725\n",
            " val loss: 0.8755555223911367, val acc: 0.6975398936170213\n",
            "\n",
            "Epoch 16\n",
            " train loss: 0.7705676976244018, train acc: 0.731502187208458\n",
            " val loss: 0.876496392615298, val acc: 0.7075576241980208\n",
            "\n",
            "Epoch 17\n",
            " train loss: 0.7628118139734216, train acc: 0.7335058109633883\n",
            " val loss: 0.9329482025288521, val acc: 0.6851063829787234\n",
            "\n",
            "Epoch 18\n",
            " train loss: 0.7540911188727105, train acc: 0.7368479041992202\n",
            " val loss: 0.875527415884302, val acc: 0.7023936170212766\n",
            "\n",
            "Epoch 19\n",
            " train loss: 0.7472802052441201, train acc: 0.74071232699389\n",
            " val loss: 0.9110742432005862, val acc: 0.6972074468085107\n",
            "\n"
          ]
        }
      ]
    },
    {
      "cell_type": "code",
      "source": [
        "loss, acc = test(net, test_loader)\n",
        "print(loss, acc)"
      ],
      "metadata": {
        "colab": {
          "base_uri": "https://localhost:8080/"
        },
        "id": "zlU5dudwOb4f",
        "outputId": "5f39d802-00da-4690-940c-730f3476aa29"
      },
      "execution_count": 27,
      "outputs": [
        {
          "output_type": "stream",
          "name": "stdout",
          "text": [
            "0.9338682491308564 0.6879976114649682\n"
          ]
        }
      ]
    },
    {
      "cell_type": "code",
      "source": [
        "net = BasicBlockNet().to(device)\n",
        "optimizer = optim.SGD(net.parameters(), lr=0.1, momentum=0.9)\n",
        "scheduler = torch.optim.lr_scheduler.CosineAnnealingLR(optimizer, 15, eta_min=0, last_epoch=- 1, verbose=False)\n",
        "tr_loss_log, tr_acc_log, val_loss_log, val_acc_log = train(net, optimizer, 20, train_loader, val_loader, scheduler)\n",
        "\n",
        "loss, acc = test(net, test_loader)\n",
        "print(loss, acc)"
      ],
      "metadata": {
        "colab": {
          "base_uri": "https://localhost:8080/"
        },
        "id": "dtDa3B24OkMq",
        "outputId": "0410370b-8cf4-4689-91ca-b340f29928e4"
      },
      "execution_count": 15,
      "outputs": [
        {
          "output_type": "stream",
          "name": "stdout",
          "text": [
            "Epoch 0\n",
            " train loss: 1.506139678536647, train acc: 0.46311455338485064\n",
            " val loss: 1.2494444456506282, val acc: 0.5534796099713508\n",
            "\n",
            "Epoch 1\n",
            " train loss: 1.2040145393917285, train acc: 0.5770558566672275\n",
            " val loss: 1.1970557268629682, val acc: 0.5875\n",
            "\n",
            "Epoch 2\n",
            " train loss: 1.079046443023019, train acc: 0.6243103617288077\n",
            " val loss: 1.1511907293441448, val acc: 0.6044769503968828\n",
            "\n",
            "Epoch 3\n",
            " train loss: 1.0258501807340101, train acc: 0.6436569600262197\n",
            " val loss: 1.0085649112437634, val acc: 0.6505762412192974\n",
            "\n",
            "Epoch 4\n",
            " train loss: 0.9789504340187505, train acc: 0.6622894358373429\n",
            " val loss: 0.9672689825930494, val acc: 0.6628102837724889\n",
            "\n",
            "Epoch 5\n",
            " train loss: 0.9381625018128529, train acc: 0.6724585400420962\n",
            " val loss: 0.9632640957832337, val acc: 0.671343085106383\n",
            "\n",
            "Epoch 6\n",
            " train loss: 0.9113246878060823, train acc: 0.6851087098147794\n",
            " val loss: 0.9336524651405659, val acc: 0.6773271276595745\n",
            "\n",
            "Epoch 7\n",
            " train loss: 0.8844823908108462, train acc: 0.6918173805015396\n",
            " val loss: 0.9041333259420192, val acc: 0.6889849289934686\n",
            "\n",
            "Epoch 8\n",
            " train loss: 0.8631074355550832, train acc: 0.6990279773253627\n",
            " val loss: 0.8807639086500128, val acc: 0.6950797872340425\n",
            "\n",
            "Epoch 9\n",
            " train loss: 0.8404122162780553, train acc: 0.7080871311358603\n",
            " val loss: 0.8776044655353465, val acc: 0.702593085106383\n",
            "\n",
            "Epoch 10\n",
            " train loss: 0.8182241939539447, train acc: 0.717415611094487\n",
            " val loss: 0.8613984934827115, val acc: 0.7057624114320633\n",
            "\n",
            "Epoch 11\n",
            " train loss: 0.8002783006680295, train acc: 0.7235733873229576\n",
            " val loss: 0.8420221716799634, val acc: 0.7132092199427016\n",
            "\n",
            "Epoch 12\n",
            " train loss: 0.78412204436018, train acc: 0.730400398291879\n",
            " val loss: 0.8298344216448196, val acc: 0.7206117021276596\n",
            "\n",
            "Epoch 13\n",
            " train loss: 0.7725145022982435, train acc: 0.7329018672815842\n",
            " val loss: 0.8322248585680698, val acc: 0.715093085106383\n",
            "\n",
            "Epoch 14\n",
            " train loss: 0.7670072145501264, train acc: 0.7343056281480318\n",
            " val loss: 0.8188184246103815, val acc: 0.7185505319148936\n",
            "\n",
            "Epoch 15\n",
            " train loss: 0.7620116951696616, train acc: 0.7366438691097378\n",
            " val loss: 0.8176885957413531, val acc: 0.7204343970785749\n",
            "\n",
            "Epoch 16\n",
            " train loss: 0.7647304145357072, train acc: 0.73519114003103\n",
            " val loss: 0.8165862712454288, val acc: 0.7205452127659574\n",
            "\n",
            "Epoch 17\n",
            " train loss: 0.7711390129390975, train acc: 0.7338975580780336\n",
            " val loss: 0.8192551280589814, val acc: 0.7216533688788719\n",
            "\n",
            "Epoch 18\n",
            " train loss: 0.7778421017652891, train acc: 0.7325876533876171\n",
            " val loss: 0.8294319203559388, val acc: 0.7170434396317664\n",
            "\n",
            "Epoch 19\n",
            " train loss: 0.787556890704732, train acc: 0.7281968203497543\n",
            " val loss: 0.8299059734699574, val acc: 0.7177304965384463\n",
            "\n",
            "0.838351351060685 0.7117834394904459\n"
          ]
        }
      ]
    },
    {
      "cell_type": "code",
      "source": [
        "loss, acc = test(net, test_loader)\n",
        "print(loss, acc)"
      ],
      "metadata": {
        "colab": {
          "base_uri": "https://localhost:8080/"
        },
        "id": "Kjo37Ot1OlGu",
        "outputId": "23879640-e704-4741-cb44-df20a11b5bbd"
      },
      "execution_count": 16,
      "outputs": [
        {
          "output_type": "stream",
          "name": "stdout",
          "text": [
            "0.838351351060685 0.7117834394904459\n"
          ]
        }
      ]
    },
    {
      "cell_type": "markdown",
      "metadata": {
        "id": "5a_zMNNVO9Du"
      },
      "source": [
        "Your answers here:"
      ]
    },
    {
      "cell_type": "markdown",
      "metadata": {
        "id": "7xFXgl_3_E--"
      },
      "source": [
        "## 4. Аугментации данных (2 балла)"
      ]
    },
    {
      "cell_type": "markdown",
      "metadata": {
        "id": "5G0Easo9O9Du"
      },
      "source": [
        "Еще одной стандартной техникой, применяющейся в глубинном обучении, а особенно часто в компьютерном зрении, являются аугментации данных. Суть аугментаций состоит в том, что мы можем некоторым синтетическим образом видоизменять объекты обучающей выборки, тем самым расширяя ее, а также делая итоговую модель более устойчивой к таким изменениям.\n",
        "\n",
        "Простейшая аугментация, которую можно применить к картинкам — разворот картинки по горизонтальной оси. То есть при обучении модели с вероятностью $0.5$ мы будем разворачивать картинку из обучающей выборки."
      ]
    },
    {
      "cell_type": "code",
      "execution_count": 11,
      "metadata": {
        "id": "SzeFpgtfO9Du",
        "colab": {
          "base_uri": "https://localhost:8080/",
          "height": 259
        },
        "outputId": "d496d5ab-5c9f-4d44-c7de-ae2c2cd9758b"
      },
      "outputs": [
        {
          "output_type": "display_data",
          "data": {
            "text/plain": [
              "<Figure size 432x288 with 1 Axes>"
            ],
            "image/png": "[encoded data removed]"
          },
          "metadata": {
            "needs_background": "light"
          }
        },
        {
          "output_type": "display_data",
          "data": {
            "text/plain": [
              "<Figure size 432x288 with 1 Axes>"
            ],
            "image/png": "[encoded data removed]"
          },
          "metadata": {
            "needs_background": "light"
          }
        }
      ],
      "source": [
        "dataiter = iter(train_loader)\n",
        "images, labels = dataiter.next()\n",
        "\n",
        "imshow(torchvision.utils.make_grid(images[:4]))\n",
        "\n",
        "imshow(torchvision.utils.make_grid(transforms.functional.hflip(images[:4])))"
      ]
    },
    {
      "cell_type": "markdown",
      "metadata": {
        "id": "BR4a-XJQO9Du"
      },
      "source": [
        "Наиболее удобным способом работы с аугментациями в PyTorch является их задание в списке <code>transforms</code>, который затем передается в загрузчик данных. Обучим нашу сеть, применяя горизонтальные повороты:"
      ]
    },
    {
      "cell_type": "code",
      "execution_count": 13,
      "metadata": {
        "id": "na0ScBf-_AqX",
        "scrolled": true,
        "colab": {
          "base_uri": "https://localhost:8080/"
        },
        "outputId": "be8a81d2-c3af-41ec-d256-276db3cf2d21"
      },
      "outputs": [
        {
          "output_type": "stream",
          "name": "stdout",
          "text": [
            "Files already downloaded and verified\n",
            "Files already downloaded and verified\n",
            "Epoch 0\n",
            " train loss: 1.454427204249764, train acc: 0.4842974666703554\n",
            " val loss: 1.2404946362718623, val acc: 0.5561170212765958\n",
            "\n",
            "Epoch 1\n",
            " train loss: 1.1502686993949374, train acc: 0.5989651345465693\n",
            " val loss: 1.0888510627949493, val acc: 0.621498226865809\n",
            "\n",
            "Epoch 2\n",
            " train loss: 1.05150788858996, train acc: 0.6339285714752714\n",
            " val loss: 1.0682115876928289, val acc: 0.6313608156873824\n",
            "\n",
            "Epoch 3\n",
            " train loss: 1.0009548960481744, train acc: 0.6520509597806216\n",
            " val loss: 1.0407878589122854, val acc: 0.6404476949509154\n",
            "\n",
            "Epoch 4\n",
            " train loss: 0.9679776946630949, train acc: 0.6635626142595978\n",
            " val loss: 1.0071518542918754, val acc: 0.6508421986661059\n",
            "\n",
            "Epoch 5\n",
            " train loss: 0.9303948597018854, train acc: 0.6768942609347635\n",
            " val loss: 0.9207498963843, val acc: 0.6793661348363187\n",
            "\n",
            "Epoch 6\n",
            " train loss: 0.9084268142579897, train acc: 0.6863900496057445\n",
            " val loss: 0.9494593785164204, val acc: 0.6708554965384463\n",
            "\n",
            "Epoch 7\n",
            " train loss: 0.9022779411872954, train acc: 0.6886140310786106\n",
            " val loss: 0.8881675304250515, val acc: 0.6947030140998516\n",
            "\n",
            "Epoch 8\n",
            " train loss: 0.8843453144024669, train acc: 0.6939760708067927\n",
            " val loss: 0.9315672930250777, val acc: 0.6775930851063829\n",
            "\n",
            "Epoch 9\n",
            " train loss: 0.8630071024136308, train acc: 0.7026271546562586\n",
            " val loss: 0.8946512757463658, val acc: 0.6935283688788718\n",
            "\n",
            "Epoch 10\n",
            " train loss: 0.7733505051685208, train acc: 0.7352931574668048\n",
            " val loss: 0.8097909021884837, val acc: 0.7237588651636814\n",
            "\n",
            "Epoch 11\n",
            " train loss: 0.7577596421760441, train acc: 0.7418100352261141\n",
            " val loss: 0.8024548101932445, val acc: 0.726684397078575\n",
            "\n",
            "Epoch 12\n",
            " train loss: 0.7518801235847543, train acc: 0.7419365369859517\n",
            " val loss: 0.8009764156443008, val acc: 0.7237588651636814\n",
            "\n",
            "Epoch 13\n",
            " train loss: 0.7489308593369053, train acc: 0.7451358057245258\n",
            " val loss: 0.7956157154225288, val acc: 0.7277039007937655\n",
            "\n",
            "Epoch 14\n",
            " train loss: 0.7449661619702467, train acc: 0.7438014168190128\n",
            " val loss: 0.7991302944244223, val acc: 0.7239361702127659\n",
            "\n",
            "Epoch 15\n",
            " train loss: 0.7314884312301057, train acc: 0.7490287934186471\n",
            " val loss: 0.7851583663453447, val acc: 0.7300088651636814\n",
            "\n",
            "Epoch 16\n",
            " train loss: 0.7298270619220664, train acc: 0.7504651997599349\n",
            " val loss: 0.7846371362818049, val acc: 0.7308953901554676\n",
            "\n",
            "Epoch 17\n",
            " train loss: 0.7297009384937216, train acc: 0.7501183402821612\n",
            " val loss: 0.7854880421719652, val acc: 0.7306072694190004\n",
            "\n",
            "Epoch 18\n",
            " train loss: 0.7284993913426477, train acc: 0.7492532319299046\n",
            " val loss: 0.7842152832670415, val acc: 0.7320478723404256\n",
            "\n",
            "Epoch 19\n",
            " train loss: 0.7272852420044119, train acc: 0.7498082070725491\n",
            " val loss: 0.7819479130684062, val acc: 0.729654255319149\n",
            "\n"
          ]
        }
      ],
      "source": [
        "transform = transforms.Compose(\n",
        "        [transforms.RandomHorizontalFlip(),\n",
        "         transforms.ToTensor(),\n",
        "         transforms.Normalize((0.5, 0.5, 0.5), (0.5, 0.5, 0.5))]\n",
        ")\n",
        "\n",
        "train_loader, val_loader, test_loader = get_cifar10_data(batch_size=64, transform_train=transform)\n",
        "\n",
        "net = BasicBlockNet().to(device)\n",
        "optimizer = optim.SGD(net.parameters(), lr=0.1, momentum=0.9)\n",
        "scheduler = optim.lr_scheduler.MultiStepLR(optimizer, milestones=[10, 15], gamma=0.1)\n",
        "tr_loss_log, tr_acc_log, val_loss_log, val_acc_log = train(net, optimizer, 20, train_loader, val_loader, scheduler)"
      ]
    },
    {
      "cell_type": "markdown",
      "metadata": {
        "id": "v3ZIqDQqO9Dv"
      },
      "source": [
        "Посчитайте точность на тестовой выборке:"
      ]
    },
    {
      "cell_type": "code",
      "execution_count": 14,
      "metadata": {
        "id": "nNJizMkM_Auh",
        "colab": {
          "base_uri": "https://localhost:8080/"
        },
        "outputId": "fb690e31-d020-4ec8-91a2-35bea7591cbd"
      },
      "outputs": [
        {
          "output_type": "stream",
          "name": "stdout",
          "text": [
            "0.8031723899826123 0.7240246815286624\n"
          ]
        }
      ],
      "source": [
        "loss, acc = test(net, test_loader)\n",
        "print(loss, acc)"
      ]
    },
    {
      "cell_type": "markdown",
      "metadata": {
        "id": "KndehSCHO9Dv"
      },
      "source": [
        "**Задание 4.1 (2 балла).** Изучите, какие еще способы аугментаций изображений представлены в <code>torchvision.transforms</code>. Выберите несколько из них, объясните, как они устроены, и обучите модель с ними (по отдельности и вместе). Удалось ли добиться улучшения качества на тестовой выборке?"
      ]
    },
    {
      "cell_type": "code",
      "execution_count": 29,
      "metadata": {
        "id": "Np4rgvdZ_QRF",
        "colab": {
          "base_uri": "https://localhost:8080/"
        },
        "outputId": "7bf8ca8f-f6ca-49b3-fc3b-67db37302232"
      },
      "outputs": [
        {
          "output_type": "stream",
          "name": "stdout",
          "text": [
            "Files already downloaded and verified\n",
            "Files already downloaded and verified\n",
            "Epoch 0\n",
            " train loss: 1.8743452256514779, train acc: 0.31909849177330896\n",
            " val loss: 1.6704160999744497, val acc: 0.3911790780564572\n",
            "\n",
            "Epoch 1\n",
            " train loss: 1.5657837534735364, train acc: 0.44151540876960405\n",
            " val loss: 1.5500218178363556, val acc: 0.4417553191489362\n",
            "\n",
            "Epoch 2\n",
            " train loss: 1.4530154979860979, train acc: 0.4863500587465122\n",
            " val loss: 1.43226924094748, val acc: 0.487876773134191\n",
            "\n",
            "Epoch 3\n",
            " train loss: 1.3881607627737893, train acc: 0.5069453512510826\n",
            " val loss: 1.556225373389873, val acc: 0.46338652486496784\n",
            "\n",
            "Epoch 4\n",
            " train loss: 1.3483628481354095, train acc: 0.5253493079210766\n",
            " val loss: 1.4514939815440075, val acc: 0.49168882978723405\n",
            "\n",
            "Epoch 5\n",
            " train loss: 1.325796979545893, train acc: 0.5324456450926103\n",
            " val loss: 1.3388061629964951, val acc: 0.524423758907521\n",
            "\n",
            "Epoch 6\n",
            " train loss: 1.2963336146073978, train acc: 0.5433288717836523\n",
            " val loss: 1.2852870710352633, val acc: 0.5465425531914894\n",
            "\n",
            "Epoch 7\n",
            " train loss: 1.283788770818623, train acc: 0.5502742230347349\n",
            " val loss: 1.366667663797419, val acc: 0.5263962765957447\n",
            "\n",
            "Epoch 8\n",
            " train loss: 1.275756695479754, train acc: 0.5496417145624457\n",
            " val loss: 1.2600651568554817, val acc: 0.5581560284533399\n",
            "\n",
            "Epoch 9\n",
            " train loss: 1.2531324282860625, train acc: 0.5601127904991345\n",
            " val loss: 1.2135349616091302, val acc: 0.5816710992062345\n",
            "\n",
            "Epoch 10\n",
            " train loss: 1.155326765459678, train acc: 0.5978266192528622\n",
            " val loss: 1.1698827647148295, val acc: 0.5951019502700643\n",
            "\n",
            "Epoch 11\n",
            " train loss: 1.1424788269307975, train acc: 0.6029968660535935\n",
            " val loss: 1.1503710548928443, val acc: 0.6019281914893617\n",
            "\n",
            "Epoch 12\n",
            " train loss: 1.13388430952372, train acc: 0.6031478519195612\n",
            " val loss: 1.142197561264038, val acc: 0.6059618795171697\n",
            "\n",
            "Epoch 13\n",
            " train loss: 1.1274666070284312, train acc: 0.6077059937787448\n",
            " val loss: 1.1428159822808934, val acc: 0.6039007093044038\n",
            "\n",
            "Epoch 14\n",
            " train loss: 1.1232460718704098, train acc: 0.608599667030453\n",
            " val loss: 1.1335807275264822, val acc: 0.6077349289934686\n",
            "\n",
            "Epoch 15\n",
            " train loss: 1.1122192773130302, train acc: 0.6123947179731547\n",
            " val loss: 1.1224989437042399, val acc: 0.6140514183551707\n",
            "\n",
            "Epoch 16\n",
            " train loss: 1.1058801003958234, train acc: 0.6150430921444727\n",
            " val loss: 1.1239935474192841, val acc: 0.6116356382978724\n",
            "\n",
            "Epoch 17\n",
            " train loss: 1.1050280412110811, train acc: 0.6164631757483404\n",
            " val loss: 1.1225577567486054, val acc: 0.6086214539852548\n",
            "\n",
            "Epoch 18\n",
            " train loss: 1.1048433106167879, train acc: 0.6182505223607232\n",
            " val loss: 1.1242086347113265, val acc: 0.6102615247381494\n",
            "\n",
            "Epoch 19\n",
            " train loss: 1.107080506886163, train acc: 0.6155409375971806\n",
            " val loss: 1.1248986652556887, val acc: 0.6090647162275111\n",
            "\n"
          ]
        }
      ],
      "source": [
        "transform2 = torchvision.transforms.Compose(\n",
        "        [torchvision.transforms.RandomVerticalFlip(p=0.5),\n",
        "         torchvision.transforms.RandomInvert(p=0.5),\n",
        "         torchvision.transforms.ToTensor(),\n",
        "         torchvision.transforms.Normalize((0.5, 0.5, 0.5), (0.5, 0.5, 0.5))]\n",
        ")\n",
        "\n",
        "train_loader, val_loader, test_loader = get_cifar10_data(batch_size=64, transform_train=transform2)\n",
        "\n",
        "net = BasicBlockNet().to(device)\n",
        "optimizer = optim.SGD(net.parameters(), lr=0.1, momentum=0.9)\n",
        "scheduler = optim.lr_scheduler.MultiStepLR(optimizer, milestones=[10, 15], gamma=0.1)\n",
        "tr_loss_log, tr_acc_log, val_loss_log, val_acc_log = train(net, optimizer, 20, train_loader, val_loader, scheduler)\n"
      ]
    },
    {
      "cell_type": "code",
      "source": [
        "loss, acc = test(net, test_loader)\n",
        "print(loss, acc)"
      ],
      "metadata": {
        "colab": {
          "base_uri": "https://localhost:8080/"
        },
        "id": "Te_g5DqqT6_u",
        "outputId": "c0502390-8175-4e45-c78a-fc56ec095266"
      },
      "execution_count": 30,
      "outputs": [
        {
          "output_type": "stream",
          "name": "stdout",
          "text": [
            "1.1422358022373953 0.6033041401273885\n"
          ]
        }
      ]
    },
    {
      "cell_type": "code",
      "source": [
        "transform2 = torchvision.transforms.Compose(\n",
        "        [torchvision.transforms.RandomAdjustSharpness(1.5, p=0.5),\n",
        "         torchvision.transforms.RandomAutocontrast(p=0.5),\n",
        "         torchvision.transforms.ToTensor(),\n",
        "         torchvision.transforms.Normalize((0.5, 0.5, 0.5), (0.5, 0.5, 0.5))]\n",
        ")\n",
        "\n",
        "train_loader, val_loader, test_loader = get_cifar10_data(batch_size=64, transform_train=transform2)\n",
        "\n",
        "net = BasicBlockNet().to(device)\n",
        "optimizer = optim.SGD(net.parameters(), lr=0.1, momentum=0.9)\n",
        "scheduler = optim.lr_scheduler.MultiStepLR(optimizer, milestones=[10, 15], gamma=0.1)\n",
        "tr_loss_log, tr_acc_log, val_loss_log, val_acc_log = train(net, optimizer, 20, train_loader, val_loader, scheduler)\n"
      ],
      "metadata": {
        "colab": {
          "base_uri": "https://localhost:8080/"
        },
        "id": "kVwEj0beVLN6",
        "outputId": "af5366cc-cc50-4161-8ae4-21df08ef5aa2"
      },
      "execution_count": 31,
      "outputs": [
        {
          "output_type": "stream",
          "name": "stdout",
          "text": [
            "Files already downloaded and verified\n",
            "Files already downloaded and verified\n",
            "Epoch 0\n",
            " train loss: 1.4719756965881292, train acc: 0.4823509728232947\n",
            " val loss: 1.2575008607925253, val acc: 0.5448803191489362\n",
            "\n",
            "Epoch 1\n",
            " train loss: 1.1508455886701343, train acc: 0.5973859035990574\n",
            " val loss: 1.0637279538398092, val acc: 0.6286347518575952\n",
            "\n",
            "Epoch 2\n",
            " train loss: 1.0425107398460292, train acc: 0.637739945155393\n",
            " val loss: 1.0121271270386716, val acc: 0.6520390071767441\n",
            "\n",
            "Epoch 3\n",
            " train loss: 0.9825782842348437, train acc: 0.6601348263254113\n",
            " val loss: 0.9635593109942497, val acc: 0.6678856382978723\n",
            "\n",
            "Epoch 4\n",
            " train loss: 0.9381851055940282, train acc: 0.6753027879341865\n",
            " val loss: 1.00313076770052, val acc: 0.6465647163543295\n",
            "\n",
            "Epoch 5\n",
            " train loss: 0.9097826220435677, train acc: 0.6860962392425188\n",
            " val loss: 0.9961446604830153, val acc: 0.655629432708659\n",
            "\n",
            "Epoch 6\n",
            " train loss: 0.8844251146155258, train acc: 0.6913725842723463\n",
            " val loss: 0.9227861145709423, val acc: 0.6809397162275111\n",
            "\n",
            "Epoch 7\n",
            " train loss: 0.8692649431812698, train acc: 0.7006724993315214\n",
            " val loss: 0.9075799226760864, val acc: 0.6853501773895101\n",
            "\n",
            "Epoch 8\n",
            " train loss: 0.8503323343379842, train acc: 0.7061936862943813\n",
            " val loss: 0.9219454263118987, val acc: 0.6876108156873825\n",
            "\n",
            "Epoch 9\n",
            " train loss: 0.8298560735621444, train acc: 0.713702174165785\n",
            " val loss: 0.8989722378710483, val acc: 0.699844858240574\n",
            "\n",
            "Epoch 10\n",
            " train loss: 0.7284195241152259, train acc: 0.7499755157849035\n",
            " val loss: 0.8100508060861141, val acc: 0.7245124114320634\n",
            "\n",
            "Epoch 11\n",
            " train loss: 0.7094442322441603, train acc: 0.7548968398592808\n",
            " val loss: 0.8113270240895292, val acc: 0.7263741135597229\n",
            "\n",
            "Epoch 12\n",
            " train loss: 0.7045964405240263, train acc: 0.7566188953040505\n",
            " val loss: 0.8102074857721937, val acc: 0.7245345744680851\n",
            "\n",
            "Epoch 13\n",
            " train loss: 0.6995061423486504, train acc: 0.7596875815984317\n",
            " val loss: 0.7982626951755362, val acc: 0.727437943346957\n",
            "\n",
            "Epoch 14\n",
            " train loss: 0.6946834710441951, train acc: 0.7603445742858176\n",
            " val loss: 0.8006039355663543, val acc: 0.7225842199427016\n",
            "\n",
            "Epoch 15\n",
            " train loss: 0.6817009656041371, train acc: 0.7670369221261912\n",
            " val loss: 0.7939354256112525, val acc: 0.7295877659574468\n",
            "\n",
            "Epoch 16\n",
            " train loss: 0.6774673664591648, train acc: 0.7677183990286734\n",
            " val loss: 0.7943056885232317, val acc: 0.7317375885679367\n",
            "\n",
            "Epoch 17\n",
            " train loss: 0.6769795954990213, train acc: 0.7675388482632541\n",
            " val loss: 0.7940171702111021, val acc: 0.7278812055892133\n",
            "\n",
            "Epoch 18\n",
            " train loss: 0.6778834428386235, train acc: 0.7682815356489945\n",
            " val loss: 0.793600050819681, val acc: 0.7277925531914894\n",
            "\n",
            "Epoch 19\n",
            " train loss: 0.6778029558645524, train acc: 0.7671511817239974\n",
            " val loss: 0.7949665376480589, val acc: 0.7298980497299357\n",
            "\n"
          ]
        }
      ]
    },
    {
      "cell_type": "code",
      "source": [
        "loss, acc = test(net, test_loader)\n",
        "print(loss, acc)"
      ],
      "metadata": {
        "colab": {
          "base_uri": "https://localhost:8080/"
        },
        "id": "uhl_Rv3IWlGn",
        "outputId": "15892790-4253-4766-8c7a-d8288585a353"
      },
      "execution_count": 32,
      "outputs": [
        {
          "output_type": "stream",
          "name": "stdout",
          "text": [
            "0.8151623181476715 0.7185509554140127\n"
          ]
        }
      ]
    },
    {
      "cell_type": "markdown",
      "metadata": {
        "id": "4K-MptLiO9Dv"
      },
      "source": [
        "Your answers here: все манипуляции дают примерно такой же ответ как и процессинг без траснформов"
      ]
    },
    {
      "cell_type": "markdown",
      "metadata": {
        "id": "HCENjLw5O9Dv"
      },
      "source": [
        "## Бонус. Логирование в wandb (2 балла)"
      ]
    },
    {
      "cell_type": "markdown",
      "metadata": {
        "id": "xOyzc1mnO9Dv"
      },
      "source": [
        "На практике специалиста по глубинному обучению часто встречаются ситуации, когда нейросеть учится на каком-то удаленном сервере. И обычно вам хочется отслеживать прогресс обучения, особенно когда время обучения модели исчисляется днями или неделями. Для таких целей существует несколько инструментов. Вероятно, самый популярный из них — [wandb](https://wandb.ai/site).\n",
        "\n",
        "Ваша задача состоит в том, чтобы разобраться как им пользоваться, и повторить задания 2.1 и 2.2 с его использованием. Обучение вы можете запускать в этом же ноутбуке, но теперь вам необходимо через wandb логировать значения функции потерь и точности на обучающей выборке и на валидационной. Результатом работы должны быть ваш код и публичная ссылка на страничку с графиками, идентичными графикам в задании 2.2."
      ]
    },
    {
      "cell_type": "code",
      "execution_count": null,
      "metadata": {
        "id": "m5gSTLAr_QS4"
      },
      "outputs": [],
      "source": [
        "# <your code here>"
      ]
    }
  ],
  "metadata": {
    "accelerator": "GPU",
    "colab": {
      "collapsed_sections": [],
      "provenance": []
    },
    "kernelspec": {
      "display_name": "Python 3 (ipykernel)",
      "language": "python",
      "name": "python3"
    },
    "language_info": {
      "codemirror_mode": {
        "name": "ipython",
        "version": 3
      },
      "file_extension": ".py",
      "mimetype": "text/x-python",
      "name": "python",
      "nbconvert_exporter": "python",
      "pygments_lexer": "ipython3",
      "version": "3.10.8"
    },
    "widgets": {
      "application/vnd.jupyter.widget-state+json": {
        "cf80df15491f49159e66683de0da93fd": {
          "model_module": "@jupyter-widgets/controls",
          "model_name": "HBoxModel",
          "model_module_version": "1.5.0",
          "state": {
            "_dom_classes": [],
            "_model_module": "@jupyter-widgets/controls",
            "_model_module_version": "1.5.0",
            "_model_name": "HBoxModel",
            "_view_count": null,
            "_view_module": "@jupyter-widgets/controls",
            "_view_module_version": "1.5.0",
            "_view_name": "HBoxView",
            "box_style": "",
            "children": [
              "IPY_MODEL_35d6be30197c49e2811fdcceb8007dac",
              "IPY_MODEL_28a131fd0bc346f4ad7676fc3fe5e729",
              "IPY_MODEL_1cc0a34fc2be47a1ba1fbcdb249cfbb2"
            ],
            "layout": "IPY_MODEL_57c169eae8764ebf841ac8963ada9d4e"
          }
        },
        "35d6be30197c49e2811fdcceb8007dac": {
          "model_module": "@jupyter-widgets/controls",
          "model_name": "HTMLModel",
          "model_module_version": "1.5.0",
          "state": {
            "_dom_classes": [],
            "_model_module": "@jupyter-widgets/controls",
            "_model_module_version": "1.5.0",
            "_model_name": "HTMLModel",
            "_view_count": null,
            "_view_module": "@jupyter-widgets/controls",
            "_view_module_version": "1.5.0",
            "_view_name": "HTMLView",
            "description": "",
            "description_tooltip": null,
            "layout": "IPY_MODEL_d12414ab32ec431896d79a1363632553",
            "placeholder": "​",
            "style": "IPY_MODEL_7409b26b97a74d2eb3d5cf2ebf9e6989",
            "value": "100%"
          }
        },
        "28a131fd0bc346f4ad7676fc3fe5e729": {
          "model_module": "@jupyter-widgets/controls",
          "model_name": "FloatProgressModel",
          "model_module_version": "1.5.0",
          "state": {
            "_dom_classes": [],
            "_model_module": "@jupyter-widgets/controls",
            "_model_module_version": "1.5.0",
            "_model_name": "FloatProgressModel",
            "_view_count": null,
            "_view_module": "@jupyter-widgets/controls",
            "_view_module_version": "1.5.0",
            "_view_name": "ProgressView",
            "bar_style": "success",
            "description": "",
            "description_tooltip": null,
            "layout": "IPY_MODEL_a6ff6e3ca17a47de9e5210307a314793",
            "max": 170498071,
            "min": 0,
            "orientation": "horizontal",
            "style": "IPY_MODEL_5c3616efa5d94e52b01902a2fb815a55",
            "value": 170498071
          }
        },
        "1cc0a34fc2be47a1ba1fbcdb249cfbb2": {
          "model_module": "@jupyter-widgets/controls",
          "model_name": "HTMLModel",
          "model_module_version": "1.5.0",
          "state": {
            "_dom_classes": [],
            "_model_module": "@jupyter-widgets/controls",
            "_model_module_version": "1.5.0",
            "_model_name": "HTMLModel",
            "_view_count": null,
            "_view_module": "@jupyter-widgets/controls",
            "_view_module_version": "1.5.0",
            "_view_name": "HTMLView",
            "description": "",
            "description_tooltip": null,
            "layout": "IPY_MODEL_677e0711e07f4f13bb2e357b565dddb1",
            "placeholder": "​",
            "style": "IPY_MODEL_3790f29acb4f454fb3148d4640132066",
            "value": " 170498071/170498071 [00:14&lt;00:00, 12735132.47it/s]"
          }
        },
        "57c169eae8764ebf841ac8963ada9d4e": {
          "model_module": "@jupyter-widgets/base",
          "model_name": "LayoutModel",
          "model_module_version": "1.2.0",
          "state": {
            "_model_module": "@jupyter-widgets/base",
            "_model_module_version": "1.2.0",
            "_model_name": "LayoutModel",
            "_view_count": null,
            "_view_module": "@jupyter-widgets/base",
            "_view_module_version": "1.2.0",
            "_view_name": "LayoutView",
            "align_content": null,
            "align_items": null,
            "align_self": null,
            "border": null,
            "bottom": null,
            "display": null,
            "flex": null,
            "flex_flow": null,
            "grid_area": null,
            "grid_auto_columns": null,
            "grid_auto_flow": null,
            "grid_auto_rows": null,
            "grid_column": null,
            "grid_gap": null,
            "grid_row": null,
            "grid_template_areas": null,
            "grid_template_columns": null,
            "grid_template_rows": null,
            "height": null,
            "justify_content": null,
            "justify_items": null,
            "left": null,
            "margin": null,
            "max_height": null,
            "max_width": null,
            "min_height": null,
            "min_width": null,
            "object_fit": null,
            "object_position": null,
            "order": null,
            "overflow": null,
            "overflow_x": null,
            "overflow_y": null,
            "padding": null,
            "right": null,
            "top": null,
            "visibility": null,
            "width": null
          }
        },
        "d12414ab32ec431896d79a1363632553": {
          "model_module": "@jupyter-widgets/base",
          "model_name": "LayoutModel",
          "model_module_version": "1.2.0",
          "state": {
            "_model_module": "@jupyter-widgets/base",
            "_model_module_version": "1.2.0",
            "_model_name": "LayoutModel",
            "_view_count": null,
            "_view_module": "@jupyter-widgets/base",
            "_view_module_version": "1.2.0",
            "_view_name": "LayoutView",
            "align_content": null,
            "align_items": null,
            "align_self": null,
            "border": null,
            "bottom": null,
            "display": null,
            "flex": null,
            "flex_flow": null,
            "grid_area": null,
            "grid_auto_columns": null,
            "grid_auto_flow": null,
            "grid_auto_rows": null,
            "grid_column": null,
            "grid_gap": null,
            "grid_row": null,
            "grid_template_areas": null,
            "grid_template_columns": null,
            "grid_template_rows": null,
            "height": null,
            "justify_content": null,
            "justify_items": null,
            "left": null,
            "margin": null,
            "max_height": null,
            "max_width": null,
            "min_height": null,
            "min_width": null,
            "object_fit": null,
            "object_position": null,
            "order": null,
            "overflow": null,
            "overflow_x": null,
            "overflow_y": null,
            "padding": null,
            "right": null,
            "top": null,
            "visibility": null,
            "width": null
          }
        },
        "7409b26b97a74d2eb3d5cf2ebf9e6989": {
          "model_module": "@jupyter-widgets/controls",
          "model_name": "DescriptionStyleModel",
          "model_module_version": "1.5.0",
          "state": {
            "_model_module": "@jupyter-widgets/controls",
            "_model_module_version": "1.5.0",
            "_model_name": "DescriptionStyleModel",
            "_view_count": null,
            "_view_module": "@jupyter-widgets/base",
            "_view_module_version": "1.2.0",
            "_view_name": "StyleView",
            "description_width": ""
          }
        },
        "a6ff6e3ca17a47de9e5210307a314793": {
          "model_module": "@jupyter-widgets/base",
          "model_name": "LayoutModel",
          "model_module_version": "1.2.0",
          "state": {
            "_model_module": "@jupyter-widgets/base",
            "_model_module_version": "1.2.0",
            "_model_name": "LayoutModel",
            "_view_count": null,
            "_view_module": "@jupyter-widgets/base",
            "_view_module_version": "1.2.0",
            "_view_name": "LayoutView",
            "align_content": null,
            "align_items": null,
            "align_self": null,
            "border": null,
            "bottom": null,
            "display": null,
            "flex": null,
            "flex_flow": null,
            "grid_area": null,
            "grid_auto_columns": null,
            "grid_auto_flow": null,
            "grid_auto_rows": null,
            "grid_column": null,
            "grid_gap": null,
            "grid_row": null,
            "grid_template_areas": null,
            "grid_template_columns": null,
            "grid_template_rows": null,
            "height": null,
            "justify_content": null,
            "justify_items": null,
            "left": null,
            "margin": null,
            "max_height": null,
            "max_width": null,
            "min_height": null,
            "min_width": null,
            "object_fit": null,
            "object_position": null,
            "order": null,
            "overflow": null,
            "overflow_x": null,
            "overflow_y": null,
            "padding": null,
            "right": null,
            "top": null,
            "visibility": null,
            "width": null
          }
        },
        "5c3616efa5d94e52b01902a2fb815a55": {
          "model_module": "@jupyter-widgets/controls",
          "model_name": "ProgressStyleModel",
          "model_module_version": "1.5.0",
          "state": {
            "_model_module": "@jupyter-widgets/controls",
            "_model_module_version": "1.5.0",
            "_model_name": "ProgressStyleModel",
            "_view_count": null,
            "_view_module": "@jupyter-widgets/base",
            "_view_module_version": "1.2.0",
            "_view_name": "StyleView",
            "bar_color": null,
            "description_width": ""
          }
        },
        "677e0711e07f4f13bb2e357b565dddb1": {
          "model_module": "@jupyter-widgets/base",
          "model_name": "LayoutModel",
          "model_module_version": "1.2.0",
          "state": {
            "_model_module": "@jupyter-widgets/base",
            "_model_module_version": "1.2.0",
            "_model_name": "LayoutModel",
            "_view_count": null,
            "_view_module": "@jupyter-widgets/base",
            "_view_module_version": "1.2.0",
            "_view_name": "LayoutView",
            "align_content": null,
            "align_items": null,
            "align_self": null,
            "border": null,
            "bottom": null,
            "display": null,
            "flex": null,
            "flex_flow": null,
            "grid_area": null,
            "grid_auto_columns": null,
            "grid_auto_flow": null,
            "grid_auto_rows": null,
            "grid_column": null,
            "grid_gap": null,
            "grid_row": null,
            "grid_template_areas": null,
            "grid_template_columns": null,
            "grid_template_rows": null,
            "height": null,
            "justify_content": null,
            "justify_items": null,
            "left": null,
            "margin": null,
            "max_height": null,
            "max_width": null,
            "min_height": null,
            "min_width": null,
            "object_fit": null,
            "object_position": null,
            "order": null,
            "overflow": null,
            "overflow_x": null,
            "overflow_y": null,
            "padding": null,
            "right": null,
            "top": null,
            "visibility": null,
            "width": null
          }
        },
        "3790f29acb4f454fb3148d4640132066": {
          "model_module": "@jupyter-widgets/controls",
          "model_name": "DescriptionStyleModel",
          "model_module_version": "1.5.0",
          "state": {
            "_model_module": "@jupyter-widgets/controls",
            "_model_module_version": "1.5.0",
            "_model_name": "DescriptionStyleModel",
            "_view_count": null,
            "_view_module": "@jupyter-widgets/base",
            "_view_module_version": "1.2.0",
            "_view_name": "StyleView",
            "description_width": ""
          }
        }
      }
    }
  },
  "nbformat": 4,
  "nbformat_minor": 0
}